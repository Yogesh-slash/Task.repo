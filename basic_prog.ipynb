{
 "cells": [
  {
   "cell_type": "code",
   "execution_count": 1,
   "id": "e57b9661-9776-4859-827a-4f74d407473b",
   "metadata": {},
   "outputs": [
    {
     "name": "stdout",
     "output_type": "stream",
     "text": [
      "55\n"
     ]
    }
   ],
   "source": [
    "# basic programs\n",
    "val1=25\n",
    "val2=30\n",
    "print(val1+val2)"
   ]
  },
  {
   "cell_type": "code",
   "execution_count": 3,
   "id": "e1aa7402-bdfd-48a1-ad0c-8fa18e8e30d6",
   "metadata": {},
   "outputs": [
    {
     "name": "stdout",
     "output_type": "stream",
     "text": [
      "sorted list in asc order: [10, 12, 15, 20, 21]\n"
     ]
    }
   ],
   "source": [
    "# asc order\n",
    "def sort_ascending(arr):\n",
    "    return sorted(arr)\n",
    "numbers = [20,21,12,10,15]\n",
    "sorted_list = sort_ascending(numbers)\n",
    "print(\"sorted list in asc order:\",sorted_list)\n"
   ]
  },
  {
   "cell_type": "code",
   "execution_count": null,
   "id": "835b0320-d3e6-4457-b7b0-33c644999f23",
   "metadata": {},
   "outputs": [],
   "source": []
  }
 ],
 "metadata": {
  "kernelspec": {
   "display_name": "Python 3 (ipykernel)",
   "language": "python",
   "name": "python3"
  },
  "language_info": {
   "codemirror_mode": {
    "name": "ipython",
    "version": 3
   },
   "file_extension": ".py",
   "mimetype": "text/x-python",
   "name": "python",
   "nbconvert_exporter": "python",
   "pygments_lexer": "ipython3",
   "version": "3.13.3"
  }
 },
 "nbformat": 4,
 "nbformat_minor": 5
}
